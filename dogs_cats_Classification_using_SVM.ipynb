{
  "metadata": {
    "kernelspec": {
      "language": "python",
      "display_name": "Python 3",
      "name": "python3"
    },
    "language_info": {
      "pygments_lexer": "ipython3",
      "nbconvert_exporter": "python",
      "version": "3.6.4",
      "file_extension": ".py",
      "codemirror_mode": {
        "name": "ipython",
        "version": 3
      },
      "name": "python",
      "mimetype": "text/x-python"
    },
    "colab": {
      "name": "Image Classification using SVM",
      "provenance": [],
      "include_colab_link": true
    }
  },
  "nbformat_minor": 0,
  "nbformat": 4,
  "cells": [
    {
      "cell_type": "markdown",
      "metadata": {
        "id": "view-in-github",
        "colab_type": "text"
      },
      "source": [
        "<a href=\"https://colab.research.google.com/github/Purohit0/PRODIGY_ML_03/blob/main/dogs_cats_Classification_using_SVM.ipynb\" target=\"_parent\"><img src=\"https://colab.research.google.com/assets/colab-badge.svg\" alt=\"Open In Colab\"/></a>"
      ]
    },
    {
      "source": [
        "\n",
        "# IMPORTANT: RUN THIS CELL IN ORDER TO IMPORT YOUR KAGGLE DATA SOURCES\n",
        "# TO THE CORRECT LOCATION (/kaggle/input) IN YOUR NOTEBOOK,\n",
        "# THEN FEEL FREE TO DELETE THIS CELL.\n",
        "# NOTE: THIS NOTEBOOK ENVIRONMENT DIFFERS FROM KAGGLE'S PYTHON\n",
        "# ENVIRONMENT SO THERE MAY BE MISSING LIBRARIES USED BY YOUR\n",
        "# NOTEBOOK.\n",
        "\n",
        "import os\n",
        "import sys\n",
        "from tempfile import NamedTemporaryFile\n",
        "from urllib.request import urlopen\n",
        "from urllib.parse import unquote, urlparse\n",
        "from urllib.error import HTTPError\n",
        "from zipfile import ZipFile\n",
        "import tarfile\n",
        "import shutil\n",
        "\n",
        "CHUNK_SIZE = 40960\n",
        "DATA_SOURCE_MAPPING = 'dogs-cats-images:https%3A%2F%2Fstorage.googleapis.com%2Fkaggle-data-sets%2F22535%2F28903%2Fbundle%2Farchive.zip%3FX-Goog-Algorithm%3DGOOG4-RSA-SHA256%26X-Goog-Credential%3Dgcp-kaggle-com%2540kaggle-161607.iam.gserviceaccount.com%252F20240606%252Fauto%252Fstorage%252Fgoog4_request%26X-Goog-Date%3D20240606T084601Z%26X-Goog-Expires%3D259200%26X-Goog-SignedHeaders%3Dhost%26X-Goog-Signature%3D183647a552ad07e7ee463204b42c1e0a4be4552a313bb1575529caeeb2c0902df31a17858c7f24388c93a1472a4984d1fe7289900246174b23f1c23d2909ac098236cb6dea8b79016932507819abf0025b15c4f8c316a9a12f27cb8aae32a681cb19816145cbf0ef65d330f1c4a5c87a9dfb405852a610bba0cfbda539143853e62d36de016b3df8f044471c711e17e32eb64dea87bd2332085c96c35ae1f9da897372b677dfa3f8e1a2bcc480297950fe7664d5be63a4d37b821160f27d823ca826e0e8379a67f5ba9e253938638d32de28a57c90b80686bb2ca1941fa9e33bf3a78a8e66b94225fd2a66b2e68c44bf2183f53b0ae6851c18018100f05e1b70'\n",
        "\n",
        "KAGGLE_INPUT_PATH='/kaggle/input'\n",
        "KAGGLE_WORKING_PATH='/kaggle/working'\n",
        "KAGGLE_SYMLINK='kaggle'\n",
        "\n",
        "!umount /kaggle/input/ 2> /dev/null\n",
        "shutil.rmtree('/kaggle/input', ignore_errors=True)\n",
        "os.makedirs(KAGGLE_INPUT_PATH, 0o777, exist_ok=True)\n",
        "os.makedirs(KAGGLE_WORKING_PATH, 0o777, exist_ok=True)\n",
        "\n",
        "try:\n",
        "  os.symlink(KAGGLE_INPUT_PATH, os.path.join(\"..\", 'input'), target_is_directory=True)\n",
        "except FileExistsError:\n",
        "  pass\n",
        "try:\n",
        "  os.symlink(KAGGLE_WORKING_PATH, os.path.join(\"..\", 'working'), target_is_directory=True)\n",
        "except FileExistsError:\n",
        "  pass\n",
        "\n",
        "for data_source_mapping in DATA_SOURCE_MAPPING.split(','):\n",
        "    directory, download_url_encoded = data_source_mapping.split(':')\n",
        "    download_url = unquote(download_url_encoded)\n",
        "    filename = urlparse(download_url).path\n",
        "    destination_path = os.path.join(KAGGLE_INPUT_PATH, directory)\n",
        "    try:\n",
        "        with urlopen(download_url) as fileres, NamedTemporaryFile() as tfile:\n",
        "            total_length = fileres.headers['content-length']\n",
        "            print(f'Downloading {directory}, {total_length} bytes compressed')\n",
        "            dl = 0\n",
        "            data = fileres.read(CHUNK_SIZE)\n",
        "            while len(data) > 0:\n",
        "                dl += len(data)\n",
        "                tfile.write(data)\n",
        "                done = int(50 * dl / int(total_length))\n",
        "                sys.stdout.write(f\"\\r[{'=' * done}{' ' * (50-done)}] {dl} bytes downloaded\")\n",
        "                sys.stdout.flush()\n",
        "                data = fileres.read(CHUNK_SIZE)\n",
        "            if filename.endswith('.zip'):\n",
        "              with ZipFile(tfile) as zfile:\n",
        "                zfile.extractall(destination_path)\n",
        "            else:\n",
        "              with tarfile.open(tfile.name) as tarfile:\n",
        "                tarfile.extractall(destination_path)\n",
        "            print(f'\\nDownloaded and uncompressed: {directory}')\n",
        "    except HTTPError as e:\n",
        "        print(f'Failed to load (likely expired) {download_url} to path {destination_path}')\n",
        "        continue\n",
        "    except OSError as e:\n",
        "        print(f'Failed to load {download_url} to path {destination_path}')\n",
        "        continue\n",
        "\n",
        "print('Data source import complete.')\n"
      ],
      "metadata": {
        "id": "oEn3jsS30a27"
      },
      "cell_type": "code",
      "outputs": [],
      "execution_count": null
    },
    {
      "cell_type": "code",
      "source": [
        "# This Python 3 environment comes with many helpful analytics libraries installed\n",
        "# It is defined by the kaggle/python Docker image: https://github.com/kaggle/docker-python\n",
        "# For example, here's several helpful packages to load\n",
        "\n",
        "import numpy as np # linear algebra\n",
        "import pandas as pd # data processing, CSV file I/O (e.g. pd.read_csv)\n",
        "import tensorflow as tf\n",
        "from tensorflow.keras.preprocessing.image import ImageDataGenerator\n",
        "\n",
        "\n",
        "# Input data files are available in the read-only \"../input/\" directory\n",
        "# For example, running this (by clicking run or pressing Shift+Enter) will list all files under the input directory\n",
        "\n",
        "import os\n",
        "for dirname, _, filenames in os.walk('/kaggle/input'):\n",
        "    for filename in filenames:\n",
        "        print(os.path.join(dirname, filename))\n",
        "\n",
        "# You can write up to 20GB to the current directory (/kaggle/working/) that gets preserved as output when you create a version using \"Save & Run All\"\n",
        "# You can also write temporary files to /kaggle/temp/, but they won't be saved outside of the current session"
      ],
      "metadata": {
        "_uuid": "8f2839f25d086af736a60e9eeb907d3b93b6e0e5",
        "_cell_guid": "b1076dfc-b9ad-4769-8c92-a6c4dae69d19",
        "_kg_hide-output": true,
        "execution": {
          "iopub.status.busy": "2021-06-05T05:10:18.239114Z",
          "iopub.execute_input": "2021-06-05T05:10:18.239564Z",
          "iopub.status.idle": "2021-06-05T05:10:53.450592Z",
          "shell.execute_reply.started": "2021-06-05T05:10:18.239476Z",
          "shell.execute_reply": "2021-06-05T05:10:53.449594Z"
        },
        "trusted": true,
        "id": "MRGoBGbc0a2_"
      },
      "execution_count": null,
      "outputs": []
    },
    {
      "cell_type": "code",
      "source": [
        "train_dir = \"/kaggle/input/dogs-cats-images/dog vs cat/dataset/training_set/\"\n",
        "test_df = \"/kaggle/input/dogs-cats-images/dog vs cat/dataset/test_set/\"\n",
        "os.listdir(train_dir)"
      ],
      "metadata": {
        "execution": {
          "iopub.status.busy": "2021-06-05T05:14:03.918191Z",
          "iopub.execute_input": "2021-06-05T05:14:03.91857Z",
          "iopub.status.idle": "2021-06-05T05:14:03.926685Z",
          "shell.execute_reply.started": "2021-06-05T05:14:03.918538Z",
          "shell.execute_reply": "2021-06-05T05:14:03.925436Z"
        },
        "trusted": true,
        "id": "WUUMwCM20a3A"
      },
      "execution_count": null,
      "outputs": []
    },
    {
      "cell_type": "code",
      "source": [
        "train_datagen = ImageDataGenerator(rescale=(1/255.),shear_range = 0.2,zoom_range=0.2,\n",
        "                                   horizontal_flip=True)\n",
        "training_set = train_datagen.flow_from_directory(directory = train_dir,target_size=(64,64),\n",
        "                                                batch_size=32,\n",
        "                                                class_mode = \"binary\")\n",
        "test_datagen = ImageDataGenerator(rescale=(1/255.))\n",
        "test_set = test_datagen.flow_from_directory(directory = test_df,target_size=(64,64),\n",
        "                                                batch_size=32,\n",
        "                                                class_mode = \"binary\")"
      ],
      "metadata": {
        "execution": {
          "iopub.status.busy": "2021-06-05T05:19:30.084629Z",
          "iopub.execute_input": "2021-06-05T05:19:30.084992Z",
          "iopub.status.idle": "2021-06-05T05:19:30.526519Z",
          "shell.execute_reply.started": "2021-06-05T05:19:30.084961Z",
          "shell.execute_reply": "2021-06-05T05:19:30.525379Z"
        },
        "trusted": true,
        "id": "x9ETGb3b0a3B"
      },
      "execution_count": null,
      "outputs": []
    },
    {
      "cell_type": "code",
      "source": [
        "from tensorflow.keras import Sequential\n",
        "from tensorflow.keras.layers import Conv2D,Dense,MaxPool2D,Flatten\n",
        "from tensorflow.keras.regularizers import l2"
      ],
      "metadata": {
        "execution": {
          "iopub.status.busy": "2021-06-05T05:28:59.550717Z",
          "iopub.execute_input": "2021-06-05T05:28:59.551177Z",
          "iopub.status.idle": "2021-06-05T05:28:59.556993Z",
          "shell.execute_reply.started": "2021-06-05T05:28:59.551126Z",
          "shell.execute_reply": "2021-06-05T05:28:59.555367Z"
        },
        "trusted": true,
        "id": "E6i66Pdr0a3B"
      },
      "execution_count": null,
      "outputs": []
    },
    {
      "cell_type": "code",
      "source": [
        "model = Sequential()\n",
        "model.add(Conv2D(filters = 32, padding = \"same\",activation = \"relu\",kernel_size=3, strides = 2,input_shape=(64,64,3)))\n",
        "model.add(MaxPool2D(pool_size=(2,2),strides = 2))\n",
        "\n",
        "model.add(Conv2D(filters = 32, padding = \"same\",activation = \"relu\",kernel_size=3))\n",
        "model.add(MaxPool2D(pool_size=(2,2),strides = 2))\n",
        "\n",
        "model.add(Flatten())\n",
        "model.add(Dense(128,activation=\"relu\"))\n",
        "\n",
        "#Output layer\n",
        "model.add(Dense(1,kernel_regularizer=l2(0.01),activation = \"linear\"))"
      ],
      "metadata": {
        "execution": {
          "iopub.status.busy": "2021-06-05T05:29:00.731885Z",
          "iopub.execute_input": "2021-06-05T05:29:00.732305Z",
          "iopub.status.idle": "2021-06-05T05:29:00.800838Z",
          "shell.execute_reply.started": "2021-06-05T05:29:00.732272Z",
          "shell.execute_reply": "2021-06-05T05:29:00.799713Z"
        },
        "trusted": true,
        "id": "Efng5e3B0a3B"
      },
      "execution_count": null,
      "outputs": []
    },
    {
      "cell_type": "markdown",
      "source": [
        ">For Multiclass Classification"
      ],
      "metadata": {
        "id": "d9G1IDhH0a3C"
      }
    },
    {
      "cell_type": "code",
      "source": [
        "model.add(Dense(number_of_classes,kernel_regularizers = l2(0.01),activation= \"softmax\"))\n",
        "model.compile(optimizer=\"adam\",loss=\"squared_hinge\", metrics = ['accuracy'])"
      ],
      "metadata": {
        "id": "sm8It1gK0a3D"
      },
      "execution_count": null,
      "outputs": []
    },
    {
      "cell_type": "code",
      "source": [
        "# Compiling the CNN\n",
        "model.compile(optimizer = 'adam', loss = \"hinge\", metrics = ['accuracy'])\n",
        "history = model.fit(x = training_set,validation_data = test_set,epochs=15)"
      ],
      "metadata": {
        "execution": {
          "iopub.status.busy": "2021-06-05T05:34:06.413116Z",
          "iopub.execute_input": "2021-06-05T05:34:06.413623Z",
          "iopub.status.idle": "2021-06-05T05:45:26.801254Z",
          "shell.execute_reply.started": "2021-06-05T05:34:06.413579Z",
          "shell.execute_reply": "2021-06-05T05:45:26.800166Z"
        },
        "trusted": true,
        "id": "jGWVfwiy0a3E"
      },
      "execution_count": null,
      "outputs": []
    },
    {
      "cell_type": "code",
      "source": [],
      "metadata": {
        "id": "J5LfT_sI0a3E"
      },
      "execution_count": null,
      "outputs": []
    }
  ]
}